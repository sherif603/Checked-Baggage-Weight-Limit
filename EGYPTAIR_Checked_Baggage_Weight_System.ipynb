{
 "cells": [
  {
   "cell_type": "code",
   "execution_count": 1,
   "metadata": {},
   "outputs": [],
   "source": [
    "# EGYPTAIR is known as the seventh carrier in the world and was founded in May 1932.\n",
    "# EGYPTAIR is based at Cairo International Airport in Egypt and Serves more than 70 destinations.\n",
    "# The airline serves Egypt, Africa, the Americas, Asia, Europe, and the Middle East.\n",
    "# EGYPTAIR Baggage\n",
    "\n",
    "# Carry-on Allowance:\n",
    "# Passangers are subject to the following hand luggage restrictions on the \n",
    "# international and domestic flights:\n",
    "# Business - two pieces of hand luggages with a maximum weight of 16 kg and one personal item.\n",
    "# Economy - one piece of hand luggage with a maximum weight of 8 kg and one personal item.\n",
    "\n",
    "# Checked Baggage:\n",
    "# Passangers are entitled to the following free baggage allowance on international routes:\n",
    "# Business - two pieces of baggages with a maximum weight of 32 kg (70 Ibs),\n",
    "# and maximum dimensions of 158 cm (62 in).\n",
    "# Economy - two pieces of baggages with a maximum weight of 23 kg (50 Ibs),\n",
    "# and maximum dimensions of 158 cm (62 in)."
   ]
  },
  {
   "cell_type": "code",
   "execution_count": 3,
   "metadata": {},
   "outputs": [
    {
     "name": "stdout",
     "output_type": "stream",
     "text": [
      "Date 2020-10-17\n",
      "EGYPTAIR\n",
      "Cairo International Airport\n",
      "Passenger name: Sherif Sakr\n"
     ]
    }
   ],
   "source": [
    "from datetime import date\n",
    "print(\"Date\", date.today())\n",
    "print(\"EGYPTAIR\")\n",
    "print(\"Cairo International Airport\")\n",
    "print(\"Passenger name: Sherif Sakr\")"
   ]
  },
  {
   "cell_type": "code",
   "execution_count": 4,
   "metadata": {},
   "outputs": [
    {
     "name": "stdout",
     "output_type": "stream",
     "text": [
      "\n",
      "Current checked baggage weigh: 0\n",
      "Adding Baggage Items Baby Stroller (16)\n",
      "\n",
      "Current checked baggage weigh: 16\n",
      "Adding Baggage Items Printer (5)\n",
      "\n",
      "Current checked baggage weigh: 21\n",
      "Adding Baggage Items Portable Oxygen Concentrator (2)\n",
      "\n",
      "Current checked baggage weigh: 23\n",
      "Adding Baggage Items Hardcover Book (2)\n",
      "\n",
      "Current checked baggage weigh: 25\n",
      "Skipping Infant car seat (8)\n",
      "\n",
      "Current checked baggage weigh: 25\n",
      "Skipping Personal Computer (10)\n",
      "\n",
      "Final free baggage allowance weight: 25\n",
      "Final Checked Baggage Items: ['Baby Stroller', 'Printer', 'Portable Oxygen Concentrator', 'Hardcover Book']\n"
     ]
    }
   ],
   "source": [
    "checked_baggage = [(\"Baby Stroller\",16),\n",
    "                   (\"Printer\",5),\n",
    "                   (\"Portable Oxygen Concentrator\",2),\n",
    "                   (\"Hardcover Book\",2),\n",
    "                   (\"Infant car seat\",8),\n",
    "                   (\"Personal Computer\",10)]\n",
    "weight = 0\n",
    "items = []\n",
    "for baggage_name, baggage_weight in checked_baggage:\n",
    "    print(\"\\nCurrent checked baggage weigh: {}\".format(weight))\n",
    "    if weight >= 32:\n",
    "        print(\"You are exceed the free baggage allownce!\")\n",
    "        break\n",
    "    elif weight + baggage_weight > 32:\n",
    "        print(\"Skipping {} ({})\".format(baggage_name,baggage_weight))\n",
    "        continue\n",
    "    else:\n",
    "        print(\"Adding Baggage Items {} ({})\".format(baggage_name,baggage_weight))\n",
    "        items.append(baggage_name)\n",
    "        weight += baggage_weight\n",
    "print(\"\\nFinal free baggage allowance weight: {}\".format(weight))\n",
    "print(\"Final Checked Baggage Items: {}\".format(items))        "
   ]
  },
  {
   "cell_type": "code",
   "execution_count": null,
   "metadata": {},
   "outputs": [],
   "source": []
  }
 ],
 "metadata": {
  "kernelspec": {
   "display_name": "Python 3",
   "language": "python",
   "name": "python3"
  },
  "language_info": {
   "codemirror_mode": {
    "name": "ipython",
    "version": 3
   },
   "file_extension": ".py",
   "mimetype": "text/x-python",
   "name": "python",
   "nbconvert_exporter": "python",
   "pygments_lexer": "ipython3",
   "version": "3.8.5"
  }
 },
 "nbformat": 4,
 "nbformat_minor": 4
}
